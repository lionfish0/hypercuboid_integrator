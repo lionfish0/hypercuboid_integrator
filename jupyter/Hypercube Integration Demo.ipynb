{
 "cells": [
  {
   "cell_type": "markdown",
   "metadata": {},
   "source": [
    "# Hypercube Integrator\n",
    "\n",
    "Given a collection of hypercubes (in this case rectangles) that fully occupy (without overlaps) a larger hypercube (rectangle), what's the integral if we sum over the points in the rectangles from one side of the space to the other:\n",
    "\n",
    "        -----------> +\n",
    "    4   ______________\n",
    "    3  |    | 4  |    |     [2+8+4]   [14]\n",
    "    2  | 1  |____| 2  |     [2+8+4]   [14]\n",
    "    1  |    | 3  |    |  =  [2+6+4] = [12]\n",
    "    0  |____|____|____|     [2+6+4]   [12]\n",
    "       0 1  2 3  4 5  6\n",
    "       \n",
    "We represent these rectangles with the start-end along each dimension. For example the rectangle on the right would be `np.array([4,6],[0,4])`. We put all these rectangles together in another array (making an `N x D x 2` numpy array), in this case a `4 x 2 x 2` array.\n",
    "\n",
    "We also specify the 'gradient' within each hypercuboid (rectangle) in a second list, each element corresponding to one of the rectangles in the first.\n",
    "\n",
    "We then call sumovercuboids and specify the dimension we want to integrate over:"
   ]
  },
  {
   "cell_type": "code",
   "execution_count": 1,
   "metadata": {},
   "outputs": [
    {
     "name": "stdout",
     "output_type": "stream",
     "text": [
      "[6] [0]\n",
      "[6] [0]\n",
      "[6] [0]\n",
      "[3] [0]\n",
      "[3] [3]\n",
      "[6] [0]\n",
      "[6] [3]\n",
      "[6] [3]\n",
      "[3] [0]\n",
      "[6] [0]\n",
      "[6] [0]\n",
      "[6] [3]\n",
      "[3] [0]\n",
      "[6] [0]\n",
      "[6] [0]\n",
      "[6] [3]\n"
     ]
    },
    {
     "data": {
      "text/plain": [
       "[{'grad': 0, 'int': 12, 'patch': [array([0]), array([3])]},\n",
       " {'grad': 0, 'int': 14, 'patch': [array([3]), array([6])]}]"
      ]
     },
     "execution_count": 1,
     "metadata": {},
     "output_type": "execute_result"
    }
   ],
   "source": [
    "import numpy as np\n",
    "from hypercuboid_integrator import sumovercuboids\n",
    "\n",
    "B = np.array([np.array([[0,2],[0,6]]),np.array([[4,6],[0,6]]),np.array([[2,4],[0,3]]),np.array([[2,4],[3,6]])])\n",
    "grads = np.array([[1],[2],[3],[4]])\n",
    "\n",
    "seglist = sumovercuboids(B,grads,0)\n",
    "seglist"
   ]
  },
  {
   "cell_type": "markdown",
   "metadata": {},
   "source": [
    "The `seglist` is a list of hypercubes (of D-1 dimensions). We can see that the integrals in the figure above can be split into two parts: from 0 to 2 and from 2 to 4. The grad value can be ignored. the int value gives the integral in that patch, and patch describes the start and end coordinates of the integrated area.\n",
    "\n",
    "To demonstrate a higher dimensional example, here we have two `2x5x2x2` hypercuboids, one at (0,0,0,0) and one at (0,0,2,0). We integrate over the longer axis (1), thus we have two cubes output when we've marginalised over that dimension. One at (0,0,0) and one at (0,2,0). The first hyper cuboid has a 'gradient' of 4, the second, 2. Thus integrating over a domain of 5, the results are 20 and 10, respectively:"
   ]
  },
  {
   "cell_type": "code",
   "execution_count": 7,
   "metadata": {},
   "outputs": [
    {
     "data": {
      "text/plain": [
       "[{'grad': 0, 'int': 20, 'patch': [array([0, 0, 0]), array([2, 2, 2])]},\n",
       " {'grad': 0, 'int': 10, 'patch': [array([0, 2, 0]), array([2, 4, 2])]}]"
      ]
     },
     "execution_count": 7,
     "metadata": {},
     "output_type": "execute_result"
    }
   ],
   "source": [
    "B = np.array([np.array([[0,2],[0,5],[0,2],[0,2]]),np.array([[0,2],[0,5],[2,4],[0,2]])])\n",
    "grads = np.array([[4],[2]])\n",
    "seglist = sumovercuboids(B,grads,1)\n",
    "seglist"
   ]
  },
  {
   "cell_type": "markdown",
   "metadata": {},
   "source": [
    "## Testing symmetry"
   ]
  },
  {
   "cell_type": "code",
   "execution_count": 12,
   "metadata": {},
   "outputs": [
    {
     "data": {
      "text/plain": [
       "[{'grad': 0.0,\n",
       "  'int': 0.73499999999999999,\n",
       "  'patch': [array([ 0.]), array([ 0.5])]},\n",
       " {'grad': 0.0,\n",
       "  'int': 0.84000000000000008,\n",
       "  'patch': [array([ 0.5]), array([ 1.])]}]"
      ]
     },
     "execution_count": 12,
     "metadata": {},
     "output_type": "execute_result"
    }
   ],
   "source": [
    "B0 = np.array([np.array([[ 0. ,  0.5],[ 0.5,  1. ]]),\n",
    "     np.array([[ 0.5,  1. ],[ 0.5,  1. ]]), \n",
    "     np.array([[ 0. ,  0.5],[ 0. ,  0.5]]), \n",
    "     np.array([[ 0.5,  1. ],[ 0. ,  0.5]])])\n",
    "grads0 = np.array([[0.77,0.91,0.62,0.85]]).T\n",
    "B1 = np.array([np.array([[ 0.5,  1. ],[ 0. ,  0.5]]),\n",
    "     np.array([[ 0.5,  1. ],[ 0.5,  1. ]]), \n",
    "     np.array([[ 0. ,  0.5],[ 0. ,  0.5]]),\n",
    "     np.array([[ 0. ,  0.5],[ 0.5,  1. ]])])\n",
    "grads1 = np.array([[ 0.77,0.91,0.62,0.85]]).T\n",
    "\n",
    "sumovercuboids(B0,grads0,0)"
   ]
  },
  {
   "cell_type": "code",
   "execution_count": 13,
   "metadata": {},
   "outputs": [
    {
     "data": {
      "text/plain": [
       "[{'grad': 0.0,\n",
       "  'int': 0.73499999999999999,\n",
       "  'patch': [array([ 0.]), array([ 0.5])]},\n",
       " {'grad': 0.0,\n",
       "  'int': 0.84000000000000008,\n",
       "  'patch': [array([ 0.5]), array([ 1.])]}]"
      ]
     },
     "execution_count": 13,
     "metadata": {},
     "output_type": "execute_result"
    }
   ],
   "source": [
    "sumovercuboids(B1,grads1,1)"
   ]
  },
  {
   "cell_type": "markdown",
   "metadata": {},
   "source": [
    "# 3d example"
   ]
  },
  {
   "cell_type": "code",
   "execution_count": 1,
   "metadata": {},
   "outputs": [
    {
     "data": {
      "text/plain": [
       "[{'grad': 0, 'int': 12, 'patch': [array([0, 0]), array([3, 1])]},\n",
       " {'grad': 0, 'int': 14, 'patch': [array([3, 0]), array([6, 1])]}]"
      ]
     },
     "execution_count": 1,
     "metadata": {},
     "output_type": "execute_result"
    }
   ],
   "source": [
    "import numpy as np\n",
    "from hypercuboid_integrator import sumovercuboids\n",
    "\n",
    "B = np.array([np.array([[0,2],[0,6],[0,1]]),np.array([[4,6],[0,6],[0,1]]),np.array([[2,4],[0,3],[0,1]]),np.array([[2,4],[3,6],[0,1]])])\n",
    "grads = np.array([[1],[2],[3],[4]])\n",
    "\n",
    "seglist = sumovercuboids(B,grads,0)\n",
    "seglist"
   ]
  },
  {
   "cell_type": "code",
   "execution_count": null,
   "metadata": {},
   "outputs": [],
   "source": []
  }
 ],
 "metadata": {
  "kernelspec": {
   "display_name": "Python 3",
   "language": "python",
   "name": "python3"
  },
  "language_info": {
   "codemirror_mode": {
    "name": "ipython",
    "version": 3
   },
   "file_extension": ".py",
   "mimetype": "text/x-python",
   "name": "python",
   "nbconvert_exporter": "python",
   "pygments_lexer": "ipython3",
   "version": "3.6.3"
  }
 },
 "nbformat": 4,
 "nbformat_minor": 2
}
